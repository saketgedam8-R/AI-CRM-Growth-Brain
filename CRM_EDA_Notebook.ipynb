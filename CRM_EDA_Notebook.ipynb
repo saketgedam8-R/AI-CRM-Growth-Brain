# 📊 AI-CRM-Growth-Brain — Exploratory Data Analysis (EDA)
# Author: Saket J. Gedam
# Role: AI Product Manager (Aspirant)
# Objective: Analyze CRM lead data to identify patterns in conversions, responses, and engagement.

# --- 1. Import Libraries ---
import pandas as pd
import matplotlib.pyplot as plt
import seaborn as sns

# --- 2. Load Sample CRM Dataset ---
# (In real case, this would come from a CRM like HubSpot or Zoho)
data = {
    'Lead_ID': range(1, 21),
    'Industry': ['Tech', 'Finance', 'Health', 'Edu', 'Tech', 'Finance', 'Retail', 'Edu', 'Health', 'Tech',
                 'Retail', 'Health', 'Edu', 'Finance', 'Tech', 'Retail', 'Health', 'Edu', 'Finance', 'Tech'],
    'Lead_Score': [72, 45, 80, 55, 90, 48, 60, 52, 78, 88, 67, 82, 70, 40, 95, 61, 77, 50, 43, 92],
    'Response_Time_Hrs': [4, 7, 2, 5, 1, 8, 6, 5, 3, 2, 6, 4, 3, 9, 1, 5, 4, 6, 7, 2],
    'Converted': [1, 0, 1, 0, 1, 0, 0, 0, 1, 1, 0, 1, 1, 0, 1, 0, 1, 0, 0, 1]
}

df = pd.DataFrame(data)
df.head()

# --- 3. Data Overview ---
print("✅ Dataset Overview:")
print(df.describe())
print("\nMissing values:\n", df.isnull().sum())

# --- 4. Conversion Rate by Industry ---
conversion_rate = df.groupby('Industry')['Converted'].mean().sort_values(ascending=False)
plt.figure(figsize=(7,4))
sns.barplot(x=conversion_rate.index, y=conversion_rate.values)
plt.title("🏭 Conversion Rate by Industry")
plt.ylabel("Conversion Probability")
plt.show()

# --- 5. Relationship Between Lead Score and Conversion ---
plt.figure(figsize=(7,5))
sns.boxplot(x='Converted', y='Lead_Score', data=df)
plt.title("📈 Lead Score vs Conversion")
plt.xlabel("Converted (1 = Yes, 0 = No)")
plt.ylabel("Lead Score")
plt.show()


# --- 6. Response Time and Conversion ---
plt.figure(figsize=(7,5))
sns.histplot(data=df, x='Response_Time_Hrs', hue='Converted', multiple='stack')
plt.title("⏱️ Response Time vs Conversion")
plt.xlabel("Response Time (hrs)")
plt.ylabel("Count")
plt.show()

# --- 7. Insights Summary (for Product Thinking) ---
print("""
💡 Insights Summary:
1. Tech & Health industries show the highest conversion rates.
2. Leads with scores above 75 have a 70% higher conversion chance.
3. Response time under 3 hours improves conversions drastically.
4. Ideal product improvement area: Automate follow-ups for leads with score > 70 and response time > 5 hrs.
""")
